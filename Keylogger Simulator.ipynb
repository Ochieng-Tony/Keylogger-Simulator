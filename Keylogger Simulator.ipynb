{
 "cells": [
  {
   "cell_type": "code",
   "execution_count": 2,
   "id": "8fcd9d73-e1bf-4c6d-814d-04eb87e55853",
   "metadata": {},
   "outputs": [
    {
     "name": "stdout",
     "output_type": "stream",
     "text": [
      "Starting keylogger.......\n",
      "Captured: 5\r"
     ]
    }
   ],
   "source": [
    "import time\n",
    "import random\n",
    "\n",
    "print(\"Starting keylogger.......\")\n",
    "fake_keys = \"abcdefghijklmnopqrstuvwxyz0123456789\"\n",
    "\n",
    "for i in range(100):\n",
    "    print(f\"Captured: {random.choice(fake_keys)}\", end='\\r')\n",
    "    time.sleep(0.1)\n"
   ]
  },
  {
   "cell_type": "code",
   "execution_count": null,
   "id": "59aa9c35-0743-4265-b24e-3c2eaf7ed0d0",
   "metadata": {},
   "outputs": [],
   "source": []
  }
 ],
 "metadata": {
  "kernelspec": {
   "display_name": "Python 3 (ipykernel)",
   "language": "python",
   "name": "python3"
  },
  "language_info": {
   "codemirror_mode": {
    "name": "ipython",
    "version": 3
   },
   "file_extension": ".py",
   "mimetype": "text/x-python",
   "name": "python",
   "nbconvert_exporter": "python",
   "pygments_lexer": "ipython3",
   "version": "3.12.7"
  }
 },
 "nbformat": 4,
 "nbformat_minor": 5
}
